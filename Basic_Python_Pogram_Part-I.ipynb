{
 "cells": [
  {
   "cell_type": "markdown",
   "metadata": {},
   "source": [
    "Question 1:- Program to find sum of two Numbers"
   ]
  },
  {
   "cell_type": "code",
   "execution_count": 1,
   "metadata": {},
   "outputs": [
    {
     "name": "stdout",
     "output_type": "stream",
     "text": [
      "Enter first Number:- 5\n",
      "Enter Second Number:- 10\n"
     ]
    },
    {
     "name": "stdout",
     "output_type": "stream",
     "text": [
      "Sum of 5 + 10 = 15\n"
     ]
    }
   ],
   "source": [
    "n1=int(input(\"Enter first Number:-\"))\n",
    "n2=int(input(\"Enter Second Number:-\"))\n",
    "add=n1+n2\n",
    "print(f\"Sum of {n1} + {n2} = {add}\")"
   ]
  },
  {
   "cell_type": "markdown",
   "metadata": {},
   "source": [
    "Question 2:- Program to find  area and circumference of circle.(area=Pi *  r * r  and Circumfrence=2 *  pi * r)"
   ]
  },
  {
   "cell_type": "code",
   "execution_count": 2,
   "metadata": {},
   "outputs": [
    {
     "name": "stdout",
     "output_type": "stream",
     "text": [
      "Enter the radious:- 5\n"
     ]
    },
    {
     "name": "stdout",
     "output_type": "stream",
     "text": [
      "Area of Circle = 78.5 .\n",
      "Circumfrence of circle = 31.400000000000002 .\n"
     ]
    }
   ],
   "source": [
    "r=int(input(\"Enter the radious:-\"))\n",
    "area=3.14*r*r\n",
    "cir=2*3.14*r\n",
    "print(f\"Area of Circle = {area} .\")\n",
    "print(f\"Circumfrence of circle = {cir} .\")"
   ]
  },
  {
   "cell_type": "markdown",
   "metadata": {},
   "source": [
    "Question 3:- Program to find Simple Interest. ( SI=(Principal Amount * Rate of Interst * time)/100)"
   ]
  },
  {
   "cell_type": "code",
   "execution_count": 3,
   "metadata": {},
   "outputs": [
    {
     "name": "stdout",
     "output_type": "stream",
     "text": [
      "Enter the Principal Amount:- 10000\n",
      "Enter the Rate of Interst:- 5\n",
      "Enter the Time:- 2\n"
     ]
    },
    {
     "name": "stdout",
     "output_type": "stream",
     "text": [
      "Simple Interst = 1000.0 .\n"
     ]
    }
   ],
   "source": [
    "p=int(input(\"Enter the Principal Amount:-\"))\n",
    "r=int(input(\"Enter the Rate of Interst:-\"))\n",
    "t=int(input(\"Enter the Time:-\"))\n",
    "\n",
    "SI=(p*r*t)/100\n",
    "print(f\"Simple Interst = {SI} .\")"
   ]
  },
  {
   "cell_type": "markdown",
   "metadata": {},
   "source": [
    "Question 4:- Program to convert temperature from degree centigrade to Fahrenheit.(f=(1.8 * c ) + 32)"
   ]
  },
  {
   "cell_type": "code",
   "execution_count": 4,
   "metadata": {},
   "outputs": [
    {
     "name": "stdout",
     "output_type": "stream",
     "text": [
      "Enter Degree in Centigrade:- 32\n"
     ]
    },
    {
     "name": "stdout",
     "output_type": "stream",
     "text": [
      "32.0 Degree Centigrade = 89.6 Degree Fahrenheit. \n"
     ]
    }
   ],
   "source": [
    "c=float(input(\"Enter Degree in Centigrade:-\"))\n",
    "f=(1.8 * c)+32\n",
    "print(f\"{c} Degree Centigrade = {f} Degree Fahrenheit. \")"
   ]
  },
  {
   "cell_type": "markdown",
   "metadata": {},
   "source": [
    "Question 5:- Program to calculate sum of 5 subject and find percentage."
   ]
  },
  {
   "cell_type": "code",
   "execution_count": 5,
   "metadata": {},
   "outputs": [
    {
     "name": "stdout",
     "output_type": "stream",
     "text": [
      "Enter Student Name:- Sushil Kushwaha\n",
      "Enter Number of Subject:- 5\n",
      "Enter 1 Subject Name:- Hindi\n",
      "Enter Marks:- 78\n",
      "Enter 2 Subject Name:- English\n",
      "Enter Marks:- 69\n",
      "Enter 3 Subject Name:- Mathe\n",
      "Enter Marks:- 87\n",
      "Enter 4 Subject Name:- Physices\n",
      "Enter Marks:- 69\n",
      "Enter 5 Subject Name:- Chemistry\n",
      "Enter Marks:- 87\n"
     ]
    },
    {
     "name": "stdout",
     "output_type": "stream",
     "text": [
      "Student Name is - Sushil Kushwaha .\n",
      "Subject Name             Marks\n",
      "Hindi                  78.0\n",
      "English                  69.0\n",
      "Mathe                  87.0\n",
      "Physices                  69.0\n",
      "Chemistry                  87.0\n",
      "Total Marks:- 390.0\n",
      "Percentage is :- 78.0\n"
     ]
    }
   ],
   "source": [
    "name=input(\"Enter Student Name:-\")\n",
    "n=int(input(\"Enter Number of Subject:-\"))\n",
    "m=n\n",
    "mark_name={}\n",
    "for i in range(1,n+1):\n",
    "    sub_name=input(f\"Enter {i} Subject Name:-\")\n",
    "    marks=float(input(\"Enter Marks:-\"))\n",
    "    mark_name[sub_name]=marks\n",
    "add=0\n",
    "for j in mark_name:\n",
    "    add=add+mark_name[j]\n",
    "\n",
    "print(f\"Student Name is - {name} .\")\n",
    "print(\"Subject Name             Marks\")\n",
    "for key, value in mark_name.items():\n",
    "    print(f\"{key}                  {value}\")\n",
    "\n",
    "print(\"Total Marks:-\", add)\n",
    "print(\"Percentage is :-\",add/m)\n",
    "\n",
    "\n",
    "\n"
   ]
  },
  {
   "cell_type": "markdown",
   "metadata": {},
   "source": [
    "Question 6:-Program to Reverse a given number."
   ]
  },
  {
   "cell_type": "code",
   "execution_count": 6,
   "metadata": {},
   "outputs": [
    {
     "name": "stdout",
     "output_type": "stream",
     "text": [
      "Enter More Than Two Digit Number:- 12345\n"
     ]
    },
    {
     "name": "stdout",
     "output_type": "stream",
     "text": [
      "Reverse of 12345 is - 54321\n"
     ]
    }
   ],
   "source": [
    "n=int(input(\"Enter More Than Two Digit Number:-\"))\n",
    "m=n\n",
    "s=0\n",
    "while n>0:\n",
    "    rem=n%10\n",
    "    s=s*10+rem\n",
    "    n=n//10\n",
    "\n",
    "print(f\"Reverse of {m} is - {s}\")"
   ]
  },
  {
   "cell_type": "markdown",
   "metadata": {},
   "source": [
    "Question 7:-Program to show swap of two Number without using third variable."
   ]
  },
  {
   "cell_type": "code",
   "execution_count": 7,
   "metadata": {},
   "outputs": [
    {
     "name": "stdout",
     "output_type": "stream",
     "text": [
      "Enter First Number:- 6\n",
      "Enter Second Number:- 4\n"
     ]
    },
    {
     "name": "stdout",
     "output_type": "stream",
     "text": [
      "Before swapping: num1 = 6, num2 = 4\n",
      "After swapping: num1 = 4, num2 = 6\n"
     ]
    }
   ],
   "source": [
    "num1=int(input(\"Enter First Number:-\"))\n",
    "num2=int(input(\"Enter Second Number:-\"))\n",
    "\n",
    "print(f\"Before swapping: num1 = {num1}, num2 = {num2}\")\n",
    "\n",
    "num1, num2 = num2, num1\n",
    "\n",
    "print(f\"After swapping: num1 = {num1}, num2 = {num2}\")"
   ]
  },
  {
   "cell_type": "markdown",
   "metadata": {},
   "source": [
    "Question 8:- Program to find gross salary. (da,ta,hra,)"
   ]
  },
  {
   "cell_type": "code",
   "execution_count": 8,
   "metadata": {},
   "outputs": [
    {
     "name": "stdout",
     "output_type": "stream",
     "text": [
      "Enter Your Base Salary:- 10000\n",
      "Enter Your TA:- 10\n",
      "Enter Your DA:- 5\n",
      "Enter Your HRA:- 25\n"
     ]
    },
    {
     "name": "stdout",
     "output_type": "stream",
     "text": [
      "Summary of Your Salary:-\n",
      "Bass Salary:- 10000.0\n",
      "10.0 % of Your TA is:- 1000.0 \n",
      "5.0 % of Your TA is:- 500.0 \n",
      "25.0 % of Your TA is:- 2500.0 \n",
      "Your Gross Salary:- 14000.0\n"
     ]
    }
   ],
   "source": [
    "bs=float(input(\"Enter Your Base Salary:-\"))\n",
    "ta=float(input(\"Enter Your TA:-\"))\n",
    "da=float(input(\"Enter Your DA:-\"))\n",
    "hra=float(input(\"Enter Your HRA:-\"))\n",
    "DA=bs*da/100\n",
    "TA=bs*ta/100\n",
    "HRA=bs*hra/100\n",
    "gs=DA+TA+HRA+bs\n",
    "print(\"Summary of Your Salary:-\")\n",
    "print(\"Bass Salary:-\",bs)\n",
    "print(f\"{ta} % of Your TA is:- {TA} \")\n",
    "print(f\"{da} % of Your TA is:- {DA} \")\n",
    "print(f\"{hra} % of Your TA is:- {HRA} \")\n",
    "print(\"Your Gross Salary:-\",gs)\n"
   ]
  },
  {
   "cell_type": "markdown",
   "metadata": {},
   "source": [
    "Question 9(a):- Program to print a Table of any number."
   ]
  },
  {
   "cell_type": "code",
   "execution_count": 9,
   "metadata": {},
   "outputs": [
    {
     "name": "stdout",
     "output_type": "stream",
     "text": [
      "Enter the Number, You want to print Table:- 10\n"
     ]
    },
    {
     "name": "stdout",
     "output_type": "stream",
     "text": [
      "10\n",
      "20\n",
      "30\n",
      "40\n",
      "50\n",
      "60\n",
      "70\n",
      "80\n",
      "90\n",
      "100\n"
     ]
    }
   ],
   "source": [
    "n=int(input(\"Enter the Number, You want to print Table:-\"))\n",
    "for i in range(1,11):\n",
    "    tab=i*n\n",
    "    print(tab)"
   ]
  },
  {
   "cell_type": "markdown",
   "metadata": {},
   "source": [
    "Question 9(b):- Program to print a Table from 1 to n number."
   ]
  },
  {
   "cell_type": "code",
   "execution_count": 10,
   "metadata": {},
   "outputs": [
    {
     "name": "stdout",
     "output_type": "stream",
     "text": [
      "Enter the Number:- 5\n"
     ]
    },
    {
     "name": "stdout",
     "output_type": "stream",
     "text": [
      "1 X 1 =1\t1 X 2 =2\t1 X 3 =3\t1 X 4 =4\t1 X 5 =5\t\n",
      "2 X 1 =2\t2 X 2 =4\t2 X 3 =6\t2 X 4 =8\t2 X 5 =10\t\n",
      "3 X 1 =3\t3 X 2 =6\t3 X 3 =9\t3 X 4 =12\t3 X 5 =15\t\n",
      "4 X 1 =4\t4 X 2 =8\t4 X 3 =12\t4 X 4 =16\t4 X 5 =20\t\n",
      "5 X 1 =5\t5 X 2 =10\t5 X 3 =15\t5 X 4 =20\t5 X 5 =25\t\n",
      "6 X 1 =6\t6 X 2 =12\t6 X 3 =18\t6 X 4 =24\t6 X 5 =30\t\n",
      "7 X 1 =7\t7 X 2 =14\t7 X 3 =21\t7 X 4 =28\t7 X 5 =35\t\n",
      "8 X 1 =8\t8 X 2 =16\t8 X 3 =24\t8 X 4 =32\t8 X 5 =40\t\n",
      "9 X 1 =9\t9 X 2 =18\t9 X 3 =27\t9 X 4 =36\t9 X 5 =45\t\n",
      "10 X 1 =10\t10 X 2 =20\t10 X 3 =30\t10 X 4 =40\t10 X 5 =50\t\n"
     ]
    }
   ],
   "source": [
    "n=int(input(\"Enter the Number:-\"))\n",
    "for i in range(1,11):\n",
    "    for j in range(1,n+1):\n",
    "        print(f\"{i} X {j} ={i*j}\" , end=\"\\t\")\n",
    "    print(\"\")\n",
    "    "
   ]
  },
  {
   "cell_type": "markdown",
   "metadata": {},
   "source": [
    "Question 10:- Program to find Greatest in 3 number."
   ]
  },
  {
   "cell_type": "code",
   "execution_count": 11,
   "metadata": {},
   "outputs": [
    {
     "name": "stdout",
     "output_type": "stream",
     "text": [
      "Enter First Number:- 5\n",
      "Enter Second Number:- 6\n",
      "Enter third Number:- 2\n"
     ]
    },
    {
     "name": "stdout",
     "output_type": "stream",
     "text": [
      "6 is greatest.\n"
     ]
    }
   ],
   "source": [
    "num1=int(input(\"Enter First Number:-\"))\n",
    "num2=int(input(\"Enter Second Number:-\"))\n",
    "num3=int(input(\"Enter third Number:-\"))\n",
    "\n",
    "if num1>num2 and num1>num3:\n",
    "    print(f\"{num1} is greatest.\")\n",
    "elif num2>num1 and num2>num3:\n",
    "    print(f\"{num2} is greatest.\")\n",
    "else:\n",
    "    print(f\"{num3} is greatest.\")\n"
   ]
  },
  {
   "cell_type": "markdown",
   "metadata": {},
   "source": [
    "Question 11:- Program to show the use of conditional operator."
   ]
  },
  {
   "cell_type": "code",
   "execution_count": 12,
   "metadata": {},
   "outputs": [
    {
     "name": "stdout",
     "output_type": "stream",
     "text": [
      "Enter First Number:- 6\n",
      "Enter Second Number:- 9\n"
     ]
    },
    {
     "name": "stdout",
     "output_type": "stream",
     "text": [
      "The Largest Number between 6 and 9 is 9\n"
     ]
    }
   ],
   "source": [
    "num1=int(input(\"Enter First Number:-\"))\n",
    "num2=int(input(\"Enter Second Number:-\"))\n",
    "\n",
    "Max_value= num1 if num1>num2 else num2\n",
    "print(f\"The Largest Number between {num1} and {num2} is {Max_value}\")\n"
   ]
  },
  {
   "cell_type": "markdown",
   "metadata": {},
   "source": [
    "Question 12:- Program to find that entered year is leap year or not."
   ]
  },
  {
   "cell_type": "code",
   "execution_count": 13,
   "metadata": {},
   "outputs": [
    {
     "name": "stdout",
     "output_type": "stream",
     "text": [
      "Enter the year:- 2025\n"
     ]
    },
    {
     "name": "stdout",
     "output_type": "stream",
     "text": [
      "This Is Not Leap year\n"
     ]
    }
   ],
   "source": [
    "year=int(input(\"Enter the year:-\"))\n",
    "if year%400==0:\n",
    "    print(\"This is leap Year\")\n",
    "elif year%4==0:\n",
    "    print(\"This is Leap Year\")\n",
    "elif year%100==0:\n",
    "    print(\"This is  Leap Year\")\n",
    "else:\n",
    "    print(\"This Is Not Leap year\")"
   ]
  },
  {
   "cell_type": "markdown",
   "metadata": {},
   "source": [
    "Question 13:- Program to find whether given number is even or odd."
   ]
  },
  {
   "cell_type": "code",
   "execution_count": 14,
   "metadata": {},
   "outputs": [
    {
     "name": "stdout",
     "output_type": "stream",
     "text": [
      "Enter Number:- 5\n"
     ]
    },
    {
     "name": "stdout",
     "output_type": "stream",
     "text": [
      "Number 5 is Odd\n"
     ]
    }
   ],
   "source": [
    "num1=int(input(\"Enter Number:-\"))\n",
    "if num1%2==0:\n",
    "    print(f\"Number {num1} is Even\")\n",
    "else:\n",
    "    print(f\"Number {num1} is Odd\")"
   ]
  },
  {
   "cell_type": "markdown",
   "metadata": {},
   "source": [
    "Question 14:- Program to shift inputed data by two bits to left."
   ]
  },
  {
   "cell_type": "code",
   "execution_count": 15,
   "metadata": {},
   "outputs": [
    {
     "name": "stdout",
     "output_type": "stream",
     "text": [
      "Enter  Number:- 5\n"
     ]
    },
    {
     "name": "stdout",
     "output_type": "stream",
     "text": [
      "The result of Shifting 5 by two bits to the left is 20 \n",
      "The result of Shifting 5 by two bits to the right is 1 \n"
     ]
    }
   ],
   "source": [
    "num1=int(input(\"Enter  Number:-\"))\n",
    "\n",
    "left_shift= num1<<2\n",
    "right_shift=num1>>2\n",
    "\n",
    "\n",
    "print(f\"The result of Shifting {num1} by two bits to the left is {left_shift} \")\n",
    "print(f\"The result of Shifting {num1} by two bits to the right is {right_shift} \")"
   ]
  },
  {
   "cell_type": "markdown",
   "metadata": {},
   "source": [
    "Question 15:- Program to use switch statement. display monday to sunday."
   ]
  },
  {
   "cell_type": "code",
   "execution_count": 16,
   "metadata": {},
   "outputs": [
    {
     "name": "stdout",
     "output_type": "stream",
     "text": [
      "Enter a day number (1-7):  5\n"
     ]
    },
    {
     "name": "stdout",
     "output_type": "stream",
     "text": [
      "Day 5: Friday\n"
     ]
    }
   ],
   "source": [
    "# Python doesn’t have a direct switch statement like some other languages\n",
    "\n",
    "def display_days(day_number):\n",
    "    days = {\n",
    "        1: \"Monday\",\n",
    "        2: \"Tuesday\",\n",
    "        3: \"Wednesday\",\n",
    "        4: \"Thursday\",\n",
    "        5: \"Friday\",\n",
    "        6: \"Saturday\",\n",
    "        7: \"Sunday\"\n",
    "    }\n",
    "\n",
    "    if day_number in days:\n",
    "        print(f\"Day {day_number}: {days[day_number]}\")\n",
    "    else:\n",
    "        print(\"Invalid day number. Please enter a number between 1 and 7.\")\n",
    "\n",
    "\n",
    "\n",
    "day_number = int(input(\"Enter a day number (1-7): \"))\n",
    "display_days(day_number)\n",
    "\n"
   ]
  },
  {
   "cell_type": "markdown",
   "metadata": {},
   "source": [
    "Question 16:-Program to display arithmatic operater using switch case."
   ]
  },
  {
   "cell_type": "code",
   "execution_count": 17,
   "metadata": {},
   "outputs": [
    {
     "name": "stdout",
     "output_type": "stream",
     "text": [
      "Enter an arithmetic operator (+, -, *, /):  +\n",
      "Enter the first number:  56\n",
      "Enter the second number:  43\n"
     ]
    },
    {
     "name": "stdout",
     "output_type": "stream",
     "text": [
      "56 + 43 = 99\n"
     ]
    }
   ],
   "source": [
    "\n",
    "# Python doesn’t have a direct switch statement like some other languages\n",
    "\n",
    "def arithmetic_operation(operator, num1, num2):\n",
    "    if operator == '+':\n",
    "        return num1 + num2\n",
    "    elif operator == '-':\n",
    "        return num1 - num2\n",
    "    elif operator == '*':\n",
    "        return num1 * num2\n",
    "    elif operator == '/':\n",
    "        if num2 != 0:\n",
    "            return num1 / num2\n",
    "        else:\n",
    "            return \"Error: Division by zero\"\n",
    "    else:\n",
    "        return \"Invalid operator\"\n",
    "\n",
    "\n",
    "\n",
    "operator = input(\"Enter an arithmetic operator (+, -, *, /): \")\n",
    "num1 = int(input(\"Enter the first number: \"))\n",
    "num2 = int(input(\"Enter the second number: \"))\n",
    "result = arithmetic_operation(operator, num1, num2)\n",
    "print(f\"{num1} {operator} {num2} = {result}\")\n",
    "\n"
   ]
  },
  {
   "cell_type": "markdown",
   "metadata": {},
   "source": [
    "Question 17:- Program to display first 10 natural number and their sum."
   ]
  },
  {
   "cell_type": "code",
   "execution_count": 18,
   "metadata": {},
   "outputs": [
    {
     "name": "stdout",
     "output_type": "stream",
     "text": [
      "This is First 10 Natural Number\n",
      "1\n",
      "2\n",
      "3\n",
      "4\n",
      "5\n",
      "6\n",
      "7\n",
      "8\n",
      "9\n",
      "10\n",
      "This is Sum of First 10 Natural Number:- 55\n"
     ]
    }
   ],
   "source": [
    "sum=0\n",
    "print(\"This is First 10 Natural Number\")\n",
    "for i in range(1,11):\n",
    "    sum=sum+i\n",
    "    print(i)\n",
    "\n",
    "print(\"This is Sum of First 10 Natural Number:-\",sum)\n"
   ]
  },
  {
   "cell_type": "markdown",
   "metadata": {},
   "source": [
    "Question 18:- Program to print stars sequence 1."
   ]
  },
  {
   "cell_type": "code",
   "execution_count": 19,
   "metadata": {},
   "outputs": [
    {
     "name": "stdout",
     "output_type": "stream",
     "text": [
      "Enter Number,You want to print Stars:- 5\n"
     ]
    },
    {
     "name": "stdout",
     "output_type": "stream",
     "text": [
      "*\n",
      "**\n",
      "***\n",
      "****\n",
      "*****\n"
     ]
    }
   ],
   "source": [
    "n=int(input(\"Enter Number,You want to print Stars:-\"))\n",
    "for i in range(1,n+1):\n",
    "    for j in range(i):\n",
    "        print(\"*\", end=\"\")\n",
    "    print(\"\")"
   ]
  },
  {
   "cell_type": "markdown",
   "metadata": {},
   "source": [
    "Question 19:- Program to print stars sequence 2."
   ]
  },
  {
   "cell_type": "code",
   "execution_count": null,
   "metadata": {},
   "outputs": [],
   "source": [
    "n=int(input(\"Enter Number:-\"))\n",
    "for i in range(1,n+1):\n",
    "    for j in range(i):\n",
    "        print(i, end=\"\")\n",
    "    print(\"\")"
   ]
  },
  {
   "cell_type": "markdown",
   "metadata": {},
   "source": [
    "Question 20:- Program to print stars sequence 3."
   ]
  },
  {
   "cell_type": "code",
   "execution_count": 19,
   "metadata": {},
   "outputs": [
    {
     "name": "stdout",
     "output_type": "stream",
     "text": [
      "12345\n",
      "1234\n",
      "123\n",
      "12\n",
      "1\n"
     ]
    }
   ],
   "source": [
    "n=int(input(\"Enter Number,You want to print Stars:-\"))\n",
    "for i in range(n,0,-1):\n",
    "    for j in range(1,i+1):\n",
    "        print(j, end=\"\")\n",
    "    print(\"\")"
   ]
  }
 ],
 "metadata": {
  "kernelspec": {
   "display_name": "Python 3 (ipykernel)",
   "language": "python",
   "name": "python3"
  },
  "language_info": {
   "codemirror_mode": {
    "name": "ipython",
    "version": 3
   },
   "file_extension": ".py",
   "mimetype": "text/x-python",
   "name": "python",
   "nbconvert_exporter": "python",
   "pygments_lexer": "ipython3",
   "version": "3.11.5"
  }
 },
 "nbformat": 4,
 "nbformat_minor": 4
}
